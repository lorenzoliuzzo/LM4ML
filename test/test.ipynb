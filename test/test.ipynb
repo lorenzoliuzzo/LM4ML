{
 "cells": [
  {
   "cell_type": "code",
   "execution_count": 1,
   "id": "d590dcb2-3fad-4ca8-937b-d25b00e164c0",
   "metadata": {},
   "outputs": [],
   "source": [
    "import jax\n",
    "from jax import numpy as jnp\n",
    "import numpy as np\n",
    "from scipy import constants\n",
    "from jax.experimental.ode import odeint\n",
    "from matplotlib import pyplot as plt"
   ]
  },
  {
   "cell_type": "code",
   "execution_count": 2,
   "id": "603e6c68-db11-41cf-be8d-f5e16c7cdf8e",
   "metadata": {},
   "outputs": [],
   "source": [
    "\n",
    "class Lagrangian(object):\n",
    "    \"\"\"\n",
    "    Lagrangian class for defining and solving the equations of motion in a Lagrangian mechanics system.\n",
    "\n",
    "    Attributes:\n",
    "        potentials (list[tuple[callable, dict]]): A list of potential energy functions and their parameters.\n",
    "\n",
    "    Methods:\n",
    "        __init__(self, potentials: list[tuple[callable, dict]] = []) -> None:\n",
    "            Constructor for the Lagrangian class.\n",
    "\n",
    "        __call__(self, q: jnp.ndarray, q_t: jnp.ndarray, mass) -> float:\n",
    "            Calculates the Lagrangian of the system given the generalized coordinates, their velocities, and the mass.\n",
    "\n",
    "        eom(self, q, q_t, mass):\n",
    "            Solves the equations of motion for the system.\n",
    "\n",
    "        integrate_eom(self, q0, q_t0, mass, time_span):\n",
    "            Integrates the equations of motion over a specified time span.\n",
    "\n",
    "    \"\"\"\n",
    "\n",
    "    def __init__(self, potentials: list[tuple[callable, dict]] = []) -> None:\n",
    "        \"\"\"\n",
    "        Constructor for the Lagrangian class.\n",
    "\n",
    "        Parameters:\n",
    "            potentials (list[tuple[callable, dict]]): A list of potential energy functions and their parameters.\n",
    "        \"\"\"\n",
    "        self.potentials = potentials\n",
    "\n",
    "    def __call__(self, q: jnp.ndarray, q_t: jnp.ndarray, mass) -> float:\n",
    "        \"\"\"\n",
    "        Calculates the Lagrangian of the system given the generalized coordinates, their velocities and the mass.\n",
    "\n",
    "        Parameters:\n",
    "            q (jnp.ndarray): Generalized coordinates.\n",
    "            q_t (jnp.ndarray): Generalized velocities.\n",
    "            mass: Mass of the system.\n",
    "\n",
    "        Returns:\n",
    "            float: The Lagrangian of the system.\n",
    "        \"\"\"\n",
    "        @jax.jit\n",
    "        def kinetic_energy(q_t: jnp.ndarray, mass: jnp.ndarray):\n",
    "            return 0.5 * mass * jnp.linalg.norm(q_t)\n",
    "        \n",
    "        T = jnp.sum(jax.jit(kinetic_energy)(q_t, mass))\n",
    "        V = jnp.sum(jnp.array([pot_fn(q, q_t, mass, **pot_params) for pot_fn, pot_params in self.potentials]))\n",
    "        return T - V    \n",
    "\n",
    "    def eom(self, q: jnp.ndarray, q_t: jnp.ndarray, mass) -> tuple[jnp.ndarray, jnp.ndarray]:\n",
    "        \"\"\"\n",
    "        Solves the equations of motion for the system.\n",
    "\n",
    "        Parameters:\n",
    "            q (jnp.ndarray): Generalized coordinates.\n",
    "            q_t (jnp.ndarray): Generalized velocities.\n",
    "            mass: Mass of the system.\n",
    "\n",
    "        Returns:\n",
    "            Tuple[jnp.ndarray, jnp.ndarray]: Tuple containing updated velocities and accelerations.\n",
    "        \"\"\"\n",
    "        dLdq = jax.jacfwd(self.__call__, 0)(q, q_t, mass)\n",
    "        dLdq_t_dq = jax.jacfwd(jax.jacfwd(self.__call__, 1), 0)(q, q_t, mass)\n",
    "        H = jax.hessian(self.__call__, 1)(q, q_t, mass)\n",
    "\n",
    "        # print(\"dLdq\", dLdq.shape, dLdq) # correct \n",
    "        # print(\"dLdq_t_dq\", dLdq_t_dq.shape, dLdq_t_dq) # correct\n",
    "        # print(\"H\", H.shape, H) # correct\n",
    "\n",
    "        dot1 = jnp.tensordot(dLdq_t_dq, q_t, axes=((2, 3), (0, 1)))\n",
    "        # print(\"dot1\", dot1.shape, dot1)\n",
    "\n",
    "        q_tt = jnp.tensordot(jnp.linalg.pinv(H), dLdq - dot1, axes=((2, 3), (1, 0)))\n",
    "        # print(\"q_tt\", q_tt)\n",
    "\n",
    "        # dot1 = jnp.tensordot(dLdq_t_dq, q_t, axes=((2, 3), (0, 1)))\n",
    "        # q_tt = jnp.tensordot(jnp.linalg.pinv(H), dLdq - dot1, axes=((2, 3), (1, 0)))\n",
    "\n",
    "        return q_t, q_tt\n",
    "\n",
    "    def eom_int(self, q0: jnp.ndarray, q_t0: jnp.ndarray, mass, t_span) -> tuple[jnp.ndarray, jnp.ndarray]:\n",
    "        \"\"\"\n",
    "        Integrates the equations of motion over a specified time span.\n",
    "\n",
    "        Parameters:\n",
    "            q0 (jnp.ndarray): Initial generalized coordinates.\n",
    "            q_t0 (jnp.ndarray): Initial velocities corresponding to the generalized coordinates.\n",
    "            mass: Mass of the system.\n",
    "            t_span: Time span for integration.\n",
    "\n",
    "        Returns:\n",
    "            Tuple[jnp.ndarray, jnp.ndarray]: Tuple containing integrated generalized coordinates and velocities.\n",
    "        \"\"\"\n",
    "        # Flatten the initial conditions for odeint\n",
    "        initial_conditions_flat = jnp.concatenate([q0, q_t0])\n",
    "\n",
    "        # Define a function for odeint\n",
    "        def dynamics(y, t):\n",
    "            q, q_t = jnp.split(y, 2)\n",
    "            q_t, q_tt = self.eom(q, q_t, mass)\n",
    "            result = jnp.concatenate([q_t, q_tt])  # Flatten the result\n",
    "            return result\n",
    "\n",
    "        # Use odeint to integrate the equations of motion\n",
    "        result = odeint(dynamics, initial_conditions_flat, t_span)\n",
    "\n",
    "        # Reshape the result to get q and q_t separately\n",
    "        q, q_t = jnp.split(result, 2, axis=1)\n",
    "\n",
    "        return q, q_t\n",
    "\n",
    "\n",
    "    def draw_trajectory(self, q0: jnp.ndarray, q_t0: jnp.ndarray, mass, t_span) -> None:\n",
    "        \"\"\"\n",
    "        Draws the trajectories of the system without constraints.\n",
    "\n",
    "        Parameters:\n",
    "            q0 [jnp.ndarray]: List of initial generalized coordinates for each trajectory.\n",
    "            q_t0 [jnp.ndarray]: List of initial velocities for each trajectory.\n",
    "            mass (List): List of masses for each trajectory.\n",
    "            t_span: Time span for integration.\n",
    "\n",
    "        Returns:\n",
    "            None\n",
    "        \"\"\"\n",
    "\n",
    "        fig = plt.figure()\n",
    "        ax = fig.add_subplot(111, projection='3d')\n",
    "        ax.set_title(\"Trajectories of the motion\")\n",
    "        ax.set_xlabel(\"X-axis\")\n",
    "        ax.set_ylabel(\"Y-axis\")\n",
    "        ax.set_zlabel(\"Z-axis\")\n",
    "\n",
    "        positions, _ = self.eom_int(q0, q_t0, mass, t_span)\n",
    "\n",
    "        for body in range(len(positions[0])):  # Iterate over n_bodies\n",
    "            ax.scatter(positions[:, body, 0], positions[:, body, 1], positions[:, body, 2])\n",
    "\n",
    "        plt.show()"
   ]
  },
  {
   "cell_type": "code",
   "execution_count": 3,
   "id": "fe4be3ac-1f10-47bb-a87d-2ea1055e21a5",
   "metadata": {},
   "outputs": [],
   "source": [
    "@jax.jit\n",
    "def gravity(x: jnp.ndarray, x_t: jnp.ndarray, mass, g) -> jnp.ndarray:\n",
    "    return g * mass * x[:, 2]"
   ]
  },
  {
   "cell_type": "code",
   "execution_count": 4,
   "id": "ac7579cb-ad3d-491d-93af-c0b87a548f3f",
   "metadata": {},
   "outputs": [
    {
     "name": "stdout",
     "output_type": "stream",
     "text": [
      "q [[ 3.  3.  3.]\n",
      " [ 2. -1.  5.]]\n",
      "q_t [[1. 1. 1.]\n",
      " [0. 0. 1.]]\n",
      "mass [1. 2.]\n"
     ]
    }
   ],
   "source": [
    "# Example usage\n",
    "nbodies = 2\n",
    "ndim = 3\n",
    "\n",
    "# setting the ic\n",
    "m1 = 1.0\n",
    "m2 = 2.0\n",
    "x0 = 3 * jnp.ones(3)\n",
    "x1 = jnp.array([2.0, -1.0, 5.0])\n",
    "x_t0 = jnp.ones(3)\n",
    "x_t1 = jnp.array([0.0, 0.0, 1.0])\n",
    "\n",
    "q = jnp.array([x0, x1])\n",
    "q_t = jnp.array([x_t0, x_t1])\n",
    "mass = jnp.array([m1, m2])\n",
    "\n",
    "print(\"q\", q)\n",
    "print(\"q_t\", q_t)\n",
    "print(\"mass\", mass)"
   ]
  },
  {
   "cell_type": "code",
   "execution_count": 5,
   "id": "c754084a-21f9-404e-9c11-482c80e84ced",
   "metadata": {},
   "outputs": [
    {
     "name": "stdout",
     "output_type": "stream",
     "text": [
      "-124.53001\n"
     ]
    }
   ],
   "source": [
    "# Create the lagrangian\n",
    "L = Lagrangian(potentials=[(gravity, {'g': 9.81})])\n",
    "print(L(q, q_t, mass))"
   ]
  },
  {
   "cell_type": "code",
   "execution_count": 6,
   "id": "601728d3-9a4c-4399-a7b3-628957e599a5",
   "metadata": {},
   "outputs": [
    {
     "name": "stdout",
     "output_type": "stream",
     "text": [
      "(Array([[1., 1., 1.],\n",
      "       [0., 0., 1.]], dtype=float32), Array([[104.64   , 104.63999, 104.63998],\n",
      "       [  0.     ,   0.     , -34.88   ]], dtype=float32))\n"
     ]
    }
   ],
   "source": [
    "print(L.eom(q, q_t, mass))"
   ]
  },
  {
   "cell_type": "code",
   "execution_count": null,
   "id": "d041d99c-6845-4af7-a79e-3e4bce7bf8b4",
   "metadata": {},
   "outputs": [],
   "source": [
    "L.draw_trajectory(q, q_t, mass, jnp.linspace(0., 2., 100))"
   ]
  }
 ],
 "metadata": {
  "kernelspec": {
   "display_name": "Python 3 (ipykernel)",
   "language": "python",
   "name": "python3"
  },
  "language_info": {
   "codemirror_mode": {
    "name": "ipython",
    "version": 3
   },
   "file_extension": ".py",
   "mimetype": "text/x-python",
   "name": "python",
   "nbconvert_exporter": "python",
   "pygments_lexer": "ipython3",
   "version": "3.10.9"
  }
 },
 "nbformat": 4,
 "nbformat_minor": 5
}
